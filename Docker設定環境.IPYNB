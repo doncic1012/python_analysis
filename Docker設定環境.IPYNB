{
 "cells": [
  {
   "cell_type": "markdown",
   "metadata": {},
   "source": [
    "Docker安裝python_conda_git開發環境\n",
    "電腦必需有安裝Docker Desktop\n",
    "方法1:使用Docker Hub Repository\n",
    "使用以下的repository\n",
    "continuumio/miniconda3\n",
    "\n",
    "步驟1 下載repository\n",
    "docker pull continuumio/miniconda3\n",
    "步驟2 建立容器\n",
    "請不要直接使用Docker Desktop直接啟動(因為容器啟動後會直接關閉)\n",
    "使用以下指令,建立容器,並且要求可互動,和配置一個偽TTY(容器啟動後不會自動關閉)\n",
    "docker run -it --name python-miniconda continuumio/miniconda3\n",
    "\n",
    "#-it 要求可互動,和配置一個偽TTY\n",
    "#--name python-miniconda 建立容器名稱\n",
    "#continuumio/miniconda3 映像名稱(一定在最後面)\n",
    "步驟3 使用VSCode Docker容器開發工具\n",
    "Docker\n",
    "Dev container\n",
    "步驟4 下載github專案\n",
    "步驟5 安裝VSCode套件\n",
    "python\n",
    "jupyter\n",
    "步驟6 安裝python外部套件"
   ]
  }
 ],
 "metadata": {
  "kernelspec": {
   "display_name": "base",
   "language": "python",
   "name": "python3"
  },
  "language_info": {
   "codemirror_mode": {
    "name": "ipython",
    "version": 3
   },
   "file_extension": ".py",
   "mimetype": "text/x-python",
   "name": "python",
   "nbconvert_exporter": "python",
   "pygments_lexer": "ipython3",
   "version": "3.12.2"
  }
 },
 "nbformat": 4,
 "nbformat_minor": 2
}
