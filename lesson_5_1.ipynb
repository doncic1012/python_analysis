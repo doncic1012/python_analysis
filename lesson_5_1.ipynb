{
 "cells": [
  {
   "cell_type": "code",
   "execution_count": 1,
   "metadata": {},
   "outputs": [
    {
     "name": "stdout",
     "output_type": "stream",
     "text": [
      "YouBike即時資訊下載完成！\n"
     ]
    }
   ],
   "source": [
    "import requests\n",
    "\n",
    "url = 'https://tcgbusfs.blob.core.windows.net/dotapp/youbike/v2/youbike_immediate.json'\n",
    "\n",
    "try:\n",
    "    response = requests.get(url)\n",
    "    response.raise_for_status()  # 檢查HTTP狀態碼，確保請求成功\n",
    "\n",
    "    data = response.json()  # 將JSON格式的資料轉換為Python字典\n",
    "\n",
    "    print('YouBike即時資訊下載完成！')\n",
    "\n",
    "except requests.exceptions.RequestException as e:\n",
    "    print(f'下載YouBike即時資訊時發生錯誤：{e}')"
   ]
  },
  {
   "cell_type": "code",
   "execution_count": null,
   "metadata": {},
   "outputs": [],
   "source": [
    "for site in data:\n",
    "    if site['available_rent_bikes'] == 0:\n",
    "        print(site)"
   ]
  },
  {
   "cell_type": "code",
   "execution_count": 2,
   "metadata": {},
   "outputs": [
    {
     "name": "stdout",
     "output_type": "stream",
     "text": [
      "62\n",
      "YouBike2.0_和平公園東側\n",
      "YouBike2.0_復興南路二段340巷口\n",
      "YouBike2.0_溫州停車場\n",
      "YouBike2.0_和平龍泉街口\n",
      "YouBike2.0_捷運古亭站(5號出口)\n",
      "YouBike2.0_臺北遠企購物中心\n",
      "YouBike2.0_懷生國中\n",
      "YouBike2.0_民權延平路口(西北側)\n",
      "YouBike2.0_南京太原路口\n",
      "YouBike2.0_雙蓮國小\n",
      "YouBike2.0_南京西寧北路口(西北側)\n",
      "YouBike2.0_劍潭抽水站\n",
      "YouBike2.0_銘傳大學\n",
      "YouBike2.0_社子國小\n",
      "YouBike2.0_聖山綠地\n",
      "YouBike2.0_文林路101巷口\n",
      "YouBike2.0_海光公園南側\n",
      "YouBike2.0_天母東路8巷/忠誠路二段154巷口\n",
      "YouBike2.0_景美運動公園\n",
      "YouBike2.0_興得閱覽室\n",
      "YouBike2.0_木南公園\n",
      "YouBike2.0_捷運動物園站(2號出口)\n",
      "YouBike2.0_名門社區\n",
      "YouBike2.0_捷運古亭站(9號出口)\n",
      "YouBike2.0_和平重慶路口\n",
      "YouBike2.0_捷運小南門站(1號出口)\n",
      "YouBike2.0_徐州杭州路口\n",
      "YouBike2.0_羅斯福寧波東街口\n",
      "YouBike2.0_捷運臺大醫院站(1號出口)\n",
      "YouBike2.0_捷運行天宮站(3號出口)\n",
      "YouBike2.0_新生高架停車場(林森北路107巷口)\n",
      "YouBike2.0_中山北路二段59巷口\n",
      "YouBike2.0_民族玉門街口\n",
      "YouBike2.0_建國長春路口(北側)\n",
      "YouBike2.0_復華公園\n",
      "YouBike2.0_敬業三樂群三路口(西北側)\n",
      "YouBike2.0_長春路258巷2弄口\n",
      "YouBike2.0_中崙加油站\n",
      "YouBike2.0_中正國小(南京東路三段48巷)\n",
      "YouBike2.0_瑞陽公園\n",
      "YouBike2.0_碧湖公園(內湖路二段103巷)\n",
      "YouBike2.0_石潭公園(安康路)\n",
      "YouBike2.0_陽明交大圖書館\n",
      "YouBike2.0_奇岩一號公園\n",
      "YouBike2.0_立功街55巷口\n",
      "YouBike2.0_泉源路23巷口\n",
      "YouBike2.0_光復北路11巷口\n",
      "YouBike2.0_三民路166巷口\n",
      "YouBike2.0_健康社會住宅\n",
      "YouBike2.0_寶清公園\n",
      "YouBike2.0_延壽街119巷口\n",
      "YouBike2.0_寶清八德路口(北側)\n",
      "YouBike2.0_健康公園\n",
      "YouBike2.0_捷運南港軟體園區(2號出口)\n",
      "YouBike2.0_松仁路253巷3弄\n",
      "YouBike2.0_光復信義路口東南側\n",
      "YouBike2.0_松智松壽路口\n",
      "YouBike2.0_協和祐德高級中學\n",
      "YouBike2.0_吳興街284巷(廣安宮)\n",
      "YouBike2.0_龍山國中\n",
      "YouBike2.0_臺大土木系館\n",
      "YouBike2.0_臺大農化新館西側\n"
     ]
    }
   ],
   "source": [
    "def filter_func(n:dict):\n",
    "    return n['available_rent_bikes'] == 0\n",
    "\n",
    "zero_rent_bikes = list(filter(filter_func,data))\n",
    "print(len(zero_rent_bikes))\n",
    "for site in zero_rent_bikes:\n",
    "    print(site['sna'])"
   ]
  }
 ],
 "metadata": {
  "kernelspec": {
   "display_name": "base",
   "language": "python",
   "name": "python3"
  },
  "language_info": {
   "codemirror_mode": {
    "name": "ipython",
    "version": 3
   },
   "file_extension": ".py",
   "mimetype": "text/x-python",
   "name": "python",
   "nbconvert_exporter": "python",
   "pygments_lexer": "ipython3",
   "version": "3.12.9"
  }
 },
 "nbformat": 4,
 "nbformat_minor": 2
}
