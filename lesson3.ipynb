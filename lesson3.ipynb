{
 "cells": [
  {
   "cell_type": "code",
   "execution_count": 1,
   "metadata": {},
   "outputs": [
    {
     "name": "stdout",
     "output_type": "stream",
     "text": [
      "安裝1:vscode\n",
      "安裝2:mini-conda\n",
      "安裝3:git\n"
     ]
    }
   ],
   "source": [
    "print('安裝1:vscode')\n",
    "print('安裝2:mini-conda')\n",
    "print('安裝3:git')"
   ]
  },
  {
   "cell_type": "code",
   "execution_count": 3,
   "metadata": {},
   "outputs": [
    {
     "data": {
      "text/plain": [
       "int"
      ]
     },
     "execution_count": 3,
     "metadata": {},
     "output_type": "execute_result"
    }
   ],
   "source": [
    "#整數int\n",
    "type(5)"
   ]
  },
  {
   "cell_type": "code",
   "execution_count": null,
   "metadata": {},
   "outputs": [],
   "source": [
    "import requests\n",
    "import pandas as pd\n",
    "\n",
    "# Fetch the latest real estate transaction data for Banqiao from the government open data platform\n",
    "url = \"https://od.moi.gov.tw/api/v1/rest/datastore/301000000A-000605-024\"\n",
    "params = {\n",
    "    \"limit\": 1000,\n",
    "    \"offset\": 0,\n",
    "    \"format\": \"json\",\n",
    "    \"q\": \"板橋區\",\n",
    "    \"sort\": \"交易年月 desc\"\n",
    "}\n",
    "\n",
    "response = requests.get(url, params=params)\n",
    "data = response.json()\n",
    "\n",
    "# Extract the records\n",
    "records = data['result']['records']\n",
    "\n",
    "# Convert to DataFrame\n",
    "df_banqiao = pd.DataFrame(records)\n",
    "\n",
    "# Filter the records for the last three months\n",
    "df_banqiao['交易年月'] = pd.to_datetime(df_banqiao['交易年月'], format='%Y%m')\n",
    "three_months_ago = pd.Timestamp.now() - pd.DateOffset(months=3)\n",
    "df_banqiao_last_three_months = df_banqiao[df_banqiao['交易年月'] >= three_months_ago]\n",
    "\n",
    "# Display the DataFrame\n",
    "df_banqiao_last_three_months"
   ]
  },
  {
   "cell_type": "code",
   "execution_count": 6,
   "metadata": {},
   "outputs": [
    {
     "name": "stdout",
     "output_type": "stream",
     "text": [
      "50\n",
      "60\n"
     ]
    }
   ],
   "source": [
    "print(5*10)\n",
    "print(6*10)"
   ]
  },
  {
   "cell_type": "code",
   "execution_count": null,
   "metadata": {},
   "outputs": [],
   "source": [
    "print(5*10)"
   ]
  },
  {
   "cell_type": "code",
   "execution_count": 17,
   "metadata": {},
   "outputs": [
    {
     "name": "stdout",
     "output_type": "stream",
     "text": [
      "6000\n",
      "214\n",
      "4056923\n",
      "3973836.4615384615\n",
      "3012\n",
      "1024\n",
      "607\n"
     ]
    }
   ],
   "source": [
    "import sys\n",
    "sys.set_int_max_str_digits(10000)\n",
    "\n",
    "print(100*60)\n",
    "print(58+156)\n",
    "print(5618484-1561561)\n",
    "print(51659874/13)\n",
    "print(1253156//416)\n",
    "print(2 ** 10)\n",
    "print(10231851586%651)"
   ]
  }
 ],
 "metadata": {
  "kernelspec": {
   "display_name": "base",
   "language": "python",
   "name": "python3"
  },
  "language_info": {
   "codemirror_mode": {
    "name": "ipython",
    "version": 3
   },
   "file_extension": ".py",
   "mimetype": "text/x-python",
   "name": "python",
   "nbconvert_exporter": "python",
   "pygments_lexer": "ipython3",
   "version": "3.12.2"
  }
 },
 "nbformat": 4,
 "nbformat_minor": 2
}
