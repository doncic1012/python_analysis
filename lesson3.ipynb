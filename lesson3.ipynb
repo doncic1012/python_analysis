{
 "cells": [
  {
   "cell_type": "code",
   "execution_count": 1,
   "metadata": {},
   "outputs": [
    {
     "name": "stdout",
     "output_type": "stream",
     "text": [
      "安裝1:vscode\n",
      "安裝2:mini-conda\n",
      "安裝3:git\n"
     ]
    }
   ],
   "source": [
    "print('安裝1:vscode')\n",
    "print('安裝2:mini-conda')\n",
    "print('安裝3:git')"
   ]
  },
  {
   "cell_type": "code",
   "execution_count": 3,
   "metadata": {},
   "outputs": [
    {
     "data": {
      "text/plain": [
       "int"
      ]
     },
     "execution_count": 3,
     "metadata": {},
     "output_type": "execute_result"
    }
   ],
   "source": [
    "#整數int\n",
    "type(5)"
   ]
  },
  {
   "cell_type": "code",
   "execution_count": 6,
   "metadata": {},
   "outputs": [
    {
     "name": "stdout",
     "output_type": "stream",
     "text": [
      "50\n",
      "60\n"
     ]
    }
   ],
   "source": [
    "print(5*10)\n",
    "print(6*10)"
   ]
  },
  {
   "cell_type": "code",
   "execution_count": null,
   "metadata": {},
   "outputs": [],
   "source": [
    "print(5*10)"
   ]
  },
  {
   "cell_type": "code",
   "execution_count": 17,
   "metadata": {},
   "outputs": [
    {
     "name": "stdout",
     "output_type": "stream",
     "text": [
      "6000\n",
      "214\n",
      "4056923\n",
      "3973836.4615384615\n",
      "3012\n",
      "1024\n",
      "607\n"
     ]
    }
   ],
   "source": [
    "import sys\n",
    "sys.set_int_max_str_digits(10000)\n",
    "\n",
    "print(100*60)\n",
    "print(58+156)\n",
    "print(5618484-1561561)\n",
    "print(51659874/13)\n",
    "print(1253156//416)\n",
    "print(2 ** 10)\n",
    "print(10231851586%651)"
   ]
  }
 ],
 "metadata": {
  "kernelspec": {
   "display_name": "base",
   "language": "python",
   "name": "python3"
  },
  "language_info": {
   "codemirror_mode": {
    "name": "ipython",
    "version": 3
   },
   "file_extension": ".py",
   "mimetype": "text/x-python",
   "name": "python",
   "nbconvert_exporter": "python",
   "pygments_lexer": "ipython3",
   "version": "3.12.2"
  }
 },
 "nbformat": 4,
 "nbformat_minor": 2
}
