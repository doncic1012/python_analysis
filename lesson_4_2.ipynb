{
 "cells": [
  {
   "cell_type": "code",
   "execution_count": 2,
   "metadata": {},
   "outputs": [],
   "source": [
    "file = open(file='student.csv', encoding='utf-8')\n",
    "file.close()"
   ]
  },
  {
   "cell_type": "code",
   "execution_count": 3,
   "metadata": {},
   "outputs": [
    {
     "name": "stdout",
     "output_type": "stream",
     "text": [
      "name,chinese,english,math,history,health\n",
      "student1,88,69,80,97,51\n",
      "student2,57,99,96,75,69\n",
      "student3,79,70,59,79,70\n",
      "student4,97,97,97,54,88\n",
      "student5,59,74,74,60,100\n",
      "student6,62,90,66,72,69\n",
      "student7,74,76,90,68,93\n",
      "student8,68,99,96,71,71\n",
      "student9,52,69,80,91,94\n",
      "student10,67,62,93,55,92\n",
      "student11,58,84,67,83,91\n",
      "student12,73,74,74,78,57\n",
      "student13,96,89,94,91,63\n",
      "student14,95,90,70,58,87\n",
      "student15,64,58,51,60,96\n",
      "student16,83,69,65,50,82\n",
      "student17,72,70,94,86,90\n",
      "student18,88,80,80,63,96\n",
      "student19,82,67,66,50,90\n",
      "student20,53,72,61,56,90\n",
      "student21,54,72,79,100,97\n",
      "student22,90,93,95,52,93\n",
      "student23,54,53,96,75,95\n",
      "student24,55,71,63,56,83\n",
      "student25,55,99,63,80,75\n",
      "student26,65,68,57,100,68\n",
      "student27,51,85,97,78,53\n",
      "student28,59,55,83,50,90\n",
      "student29,62,55,63,91,51\n",
      "student30,81,94,50,56,73\n",
      "student31,72,76,57,93,63\n",
      "student32,63,81,57,100,76\n",
      "student33,81,71,55,54,65\n",
      "student34,99,76,60,67,58\n",
      "student35,97,73,99,78,63\n",
      "student36,99,50,62,91,94\n",
      "student37,78,66,91,61,60\n",
      "student38,64,60,73,78,55\n",
      "student39,99,63,83,69,88\n",
      "student40,54,97,90,96,77\n",
      "student41,58,61,98,62,72\n",
      "student42,52,89,98,83,84\n",
      "student43,52,95,64,59,67\n",
      "student44,79,79,76,58,71\n",
      "student45,86,50,65,68,74\n",
      "student46,75,58,89,89,96\n",
      "student47,72,95,75,87,62\n",
      "student48,100,85,96,96,63\n",
      "student49,58,59,74,89,59\n",
      "student50,73,56,55,76,96\n",
      "\n"
     ]
    }
   ],
   "source": [
    "with open(file='student.csv', encoding='utf-8') as file:\n",
    "    content:str = file.read()\n",
    "print(content)"
   ]
  },
  {
   "cell_type": "code",
   "execution_count": 4,
   "metadata": {},
   "outputs": [
    {
     "name": "stdout",
     "output_type": "stream",
     "text": [
      "['name,chinese,english,math,history,health\\n', 'student1,88,69,80,97,51\\n', 'student2,57,99,96,75,69\\n', 'student3,79,70,59,79,70\\n', 'student4,97,97,97,54,88\\n', 'student5,59,74,74,60,100\\n', 'student6,62,90,66,72,69\\n', 'student7,74,76,90,68,93\\n', 'student8,68,99,96,71,71\\n', 'student9,52,69,80,91,94\\n', 'student10,67,62,93,55,92\\n', 'student11,58,84,67,83,91\\n', 'student12,73,74,74,78,57\\n', 'student13,96,89,94,91,63\\n', 'student14,95,90,70,58,87\\n', 'student15,64,58,51,60,96\\n', 'student16,83,69,65,50,82\\n', 'student17,72,70,94,86,90\\n', 'student18,88,80,80,63,96\\n', 'student19,82,67,66,50,90\\n', 'student20,53,72,61,56,90\\n', 'student21,54,72,79,100,97\\n', 'student22,90,93,95,52,93\\n', 'student23,54,53,96,75,95\\n', 'student24,55,71,63,56,83\\n', 'student25,55,99,63,80,75\\n', 'student26,65,68,57,100,68\\n', 'student27,51,85,97,78,53\\n', 'student28,59,55,83,50,90\\n', 'student29,62,55,63,91,51\\n', 'student30,81,94,50,56,73\\n', 'student31,72,76,57,93,63\\n', 'student32,63,81,57,100,76\\n', 'student33,81,71,55,54,65\\n', 'student34,99,76,60,67,58\\n', 'student35,97,73,99,78,63\\n', 'student36,99,50,62,91,94\\n', 'student37,78,66,91,61,60\\n', 'student38,64,60,73,78,55\\n', 'student39,99,63,83,69,88\\n', 'student40,54,97,90,96,77\\n', 'student41,58,61,98,62,72\\n', 'student42,52,89,98,83,84\\n', 'student43,52,95,64,59,67\\n', 'student44,79,79,76,58,71\\n', 'student45,86,50,65,68,74\\n', 'student46,75,58,89,89,96\\n', 'student47,72,95,75,87,62\\n', 'student48,100,85,96,96,63\\n', 'student49,58,59,74,89,59\\n', 'student50,73,56,55,76,96\\n']\n"
     ]
    }
   ],
   "source": [
    "with open(file='student.csv', encoding='utf-8') as file:\n",
    "    lines:list[str] = file.readlines()\n",
    "    print(lines)"
   ]
  },
  {
   "cell_type": "code",
   "execution_count": 6,
   "metadata": {},
   "outputs": [
    {
     "name": "stdout",
     "output_type": "stream",
     "text": [
      "['student20', '53', '72', '61', '56', '90']\n"
     ]
    }
   ],
   "source": [
    "import csv\n",
    "with open(file='student.csv', encoding='utf-8') as file:\n",
    "    reader = csv.reader(file)\n",
    "    next(reader)\n",
    "    students:list = list(reader)\n",
    "\n",
    "for student in students:\n",
    "    if student[0] == 'student20':\n",
    "        print(student)"
   ]
  }
 ],
 "metadata": {
  "kernelspec": {
   "display_name": "base",
   "language": "python",
   "name": "python3"
  },
  "language_info": {
   "codemirror_mode": {
    "name": "ipython",
    "version": 3
   },
   "file_extension": ".py",
   "mimetype": "text/x-python",
   "name": "python",
   "nbconvert_exporter": "python",
   "pygments_lexer": "ipython3",
   "version": "3.12.8"
  }
 },
 "nbformat": 4,
 "nbformat_minor": 2
}
